{
 "cells": [
  {
   "cell_type": "code",
   "execution_count": 1,
   "metadata": {},
   "outputs": [
    {
     "name": "stdout",
     "output_type": "stream",
     "text": [
      "Enter the lenth of your list : 5\n",
      "3\n",
      "4\n",
      "5\n",
      "6\n",
      "7\n",
      "The List is  [3, 4, 5, 6, 7]\n",
      "Sum of elements in List 25\n"
     ]
    }
   ],
   "source": [
    "#Q. Write a Python program to find sum of elements in list?\n",
    "\n",
    "n = int(input(\"Enter the lenth of your list : \"))\n",
    "lst = []\n",
    "\n",
    "for i in range(n):\n",
    "    lst.append(int(input()))\n",
    "print(\"The List is \",lst)\n",
    "print(\"Sum of elements in List\",sum(lst))"
   ]
  },
  {
   "cell_type": "code",
   "execution_count": 2,
   "metadata": {},
   "outputs": [
    {
     "name": "stdout",
     "output_type": "stream",
     "text": [
      "Enter the lenth of your list : 5\n",
      "3\n",
      "4\n",
      "5\n",
      "6\n",
      "76\n",
      "The List is  [3, 4, 5, 6, 76]\n",
      "Product of elements in List is : 27360\n"
     ]
    }
   ],
   "source": [
    "#Q. Write a Python program to Multiply all numbers in the list?\n",
    "\n",
    "n = int(input(\"Enter the lenth of your list : \"))\n",
    "lst = []\n",
    "\n",
    "for i in range(n):\n",
    "    lst.append(int(input()))\n",
    "print(\"The List is \",lst)\n",
    "product = 1\n",
    "for i in lst:\n",
    "    product = product*i\n",
    "print(\"Product of elements in List is :\",product)"
   ]
  },
  {
   "cell_type": "code",
   "execution_count": 3,
   "metadata": {},
   "outputs": [
    {
     "name": "stdout",
     "output_type": "stream",
     "text": [
      "Enter the lenth of your list : 5\n",
      "4\n",
      "5\n",
      "6\n",
      "7\n",
      "8\n",
      "The List is  [4, 5, 6, 7, 8]\n",
      "The Smallest no. in the list is : 4\n"
     ]
    }
   ],
   "source": [
    "#Q. Write a Python program to find smallest number in a list?\n",
    "\n",
    "n = int(input(\"Enter the lenth of your list : \"))\n",
    "lst = []\n",
    "\n",
    "for i in range(n):\n",
    "    lst.append(int(input()))\n",
    "print(\"The List is \",lst)\n",
    "print(\"The Smallest no. in the list is :\",min(lst))"
   ]
  },
  {
   "cell_type": "code",
   "execution_count": 1,
   "metadata": {},
   "outputs": [
    {
     "name": "stdout",
     "output_type": "stream",
     "text": [
      "Enter the lenth of your list : 4\n",
      "3\n",
      "4\n",
      "54\n",
      "6\n",
      "The List is  [3, 4, 54, 6]\n",
      "The largest no. in the list is : 54\n"
     ]
    }
   ],
   "source": [
    "#Q. Write a Python program to find largest number in a list?\n",
    "\n",
    "n = int(input(\"Enter the lenth of your list : \"))\n",
    "lst = []\n",
    "\n",
    "for i in range(n):\n",
    "    lst.append(int(input()))\n",
    "print(\"The List is \",lst)\n",
    "print(\"The largest no. in the list is :\",max(lst))"
   ]
  },
  {
   "cell_type": "code",
   "execution_count": 2,
   "metadata": {},
   "outputs": [
    {
     "name": "stdout",
     "output_type": "stream",
     "text": [
      "Enter the lenth of your list : 5\n",
      "4\n",
      "5\n",
      "6\n",
      "7\n",
      "8\n",
      "The List is  [4, 5, 6, 7, 8]\n",
      "The sorted list is  [4, 5, 6, 7, 8]\n",
      "The second largest number in the list is  7\n"
     ]
    }
   ],
   "source": [
    "#Q. Write a Python program to find second largest number in a list?\n",
    "\n",
    "n = int(input(\"Enter the lenth of your list : \"))\n",
    "lst = []\n",
    "\n",
    "for i in range(n):\n",
    "    lst.append(int(input()))\n",
    "print(\"The List is \",lst)\n",
    "lst.sort()\n",
    "print(\"The sorted list is \",lst)\n",
    "print(\"The second largest number in the list is \",lst[-2])"
   ]
  },
  {
   "cell_type": "code",
   "execution_count": 3,
   "metadata": {},
   "outputs": [
    {
     "name": "stdout",
     "output_type": "stream",
     "text": [
      "Enter the lenth of your list : 3\n",
      "4\n",
      "5\n",
      "6\n",
      "The List is  [4, 5, 6]\n",
      "The sorted list is  [4, 5, 6]\n",
      "Enter how many largest number you want from list:6\n",
      "enterted value is larger then the length of list\n"
     ]
    }
   ],
   "source": [
    "#Q. Write a Python program to find N largest elements from a list?\n",
    "\n",
    "n = int(input(\"Enter the lenth of your list : \"))\n",
    "lst = []\n",
    "\n",
    "for i in range(n):\n",
    "    lst.append(int(input()))\n",
    "print(\"The List is \",lst)\n",
    "lst.sort()\n",
    "print(\"The sorted list is \",lst)\n",
    "nlar = int(input(\"Enter how many largest number you want from list:\"))\n",
    "\n",
    "if n < nlar :\n",
    "    print(\"enterted value is larger then the length of list\")\n",
    "else:\n",
    "    print(nlar,\"largest elements from the list are :\",lst[(n-nlar):])"
   ]
  },
  {
   "cell_type": "code",
   "execution_count": 4,
   "metadata": {},
   "outputs": [
    {
     "name": "stdout",
     "output_type": "stream",
     "text": [
      "Enter  the len of the list :4\n",
      "4\n",
      "56\n",
      "7\n",
      "8\n",
      "The List is : [4, 56, 7, 8]\n",
      "The even numbers in list [4, 56, 8]\n"
     ]
    }
   ],
   "source": [
    "#Q. Write a Python program to print even numbers in a list?\n",
    "\n",
    "lent =  int(input(\"Enter  the len of the list :\"))\n",
    "lst = []\n",
    "for i in  range(lent):\n",
    "  lst.append(int(input()))\n",
    "print(\"The List is :\" ,lst)\n",
    "even = [i for i in lst if i%2==0 ]\n",
    "print(\"The even numbers in list\" , even)"
   ]
  },
  {
   "cell_type": "code",
   "execution_count": 7,
   "metadata": {},
   "outputs": [
    {
     "name": "stdout",
     "output_type": "stream",
     "text": [
      "Enter  the len of the list :4\n",
      "4\n",
      "5\n",
      "6\n",
      "7\n",
      "The List is : [4, 5, 6, 7]\n",
      "The even numbers in list [5, 7]\n"
     ]
    }
   ],
   "source": [
    "#Q. Write a Python program to print odd numbers in a List?\n",
    "\n",
    "lent =  int(input(\"Enter  the len of the list :\"))\n",
    "lst = []\n",
    "for i in  range(lent):\n",
    "    lst.append(int(input()))\n",
    "print(\"The List is :\" ,lst)\n",
    "odd = [i for i in lst if i%2 != 0 ]\n",
    "print(\"The even numbers in list\" , odd)"
   ]
  },
  {
   "cell_type": "code",
   "execution_count": 8,
   "metadata": {},
   "outputs": [
    {
     "name": "stdout",
     "output_type": "stream",
     "text": [
      "The List : [55, [], 14, 75, [], 96, 80, [], 36]\n",
      "The list after removing empty lists : [55, 14, 75, 96, 80, 36]\n"
     ]
    }
   ],
   "source": [
    "#Q. Write a Python program to Remove empty List from List?\n",
    "\n",
    "lst = [55,[],14,75,[],96,80,[],36]\n",
    "print(\"The List :\",lst)\n",
    "new_list = [item for item in lst if item != []]\n",
    "print(\"The list after removing empty lists :\" , new_list)"
   ]
  },
  {
   "cell_type": "code",
   "execution_count": 9,
   "metadata": {},
   "outputs": [
    {
     "name": "stdout",
     "output_type": "stream",
     "text": [
      "Enter the lenth of your list : 4\n",
      "5\n",
      "5\n",
      "5\n",
      "4\n",
      "The List is  [5, 5, 5, 4]\n",
      "Cloning By list copying lst  [5, 5, 5, 4]\n"
     ]
    }
   ],
   "source": [
    "#Q. Write a Python program to Cloning or Copying a list?\n",
    "\n",
    "n = int(input(\"Enter the lenth of your list : \"))\n",
    "lst = []\n",
    "\n",
    "for i in range(n):\n",
    "    lst.append(int(input()))\n",
    "print(\"The List is \",lst)\n",
    "\n",
    "lst_copy = lst.copy()\n",
    "print(\"Cloning By list copying lst \",lst_copy)"
   ]
  },
  {
   "cell_type": "code",
   "execution_count": 10,
   "metadata": {},
   "outputs": [
    {
     "name": "stdout",
     "output_type": "stream",
     "text": [
      "Enter the lenth of your list : 4\n",
      "3\n",
      "4\n",
      "4\n",
      "5\n",
      "The List is  [3, 4, 4, 5]\n",
      "Enter the element to find its occurance : 1\n",
      "1 has occured 0 times in the list \n"
     ]
    }
   ],
   "source": [
    "#Q. Write a Python program to Count occurrences of an element in a list?\n",
    "\n",
    "lent = int(input(\"Enter the lenth of your list : \"))\n",
    "lst = []\n",
    "\n",
    "for i in range(lent):\n",
    "    lst.append(int(input()))\n",
    "print(\"The List is \",lst)\n",
    "ele= int(input(\"Enter the element to find its occurance : \"))\n",
    "print(ele,\"has occured {} times in the list \".format(lst.count(ele)))"
   ]
  },
  {
   "cell_type": "code",
   "execution_count": null,
   "metadata": {},
   "outputs": [],
   "source": []
  }
 ],
 "metadata": {
  "kernelspec": {
   "display_name": "Python 3",
   "language": "python",
   "name": "python3"
  },
  "language_info": {
   "codemirror_mode": {
    "name": "ipython",
    "version": 3
   },
   "file_extension": ".py",
   "mimetype": "text/x-python",
   "name": "python",
   "nbconvert_exporter": "python",
   "pygments_lexer": "ipython3",
   "version": "3.8.5"
  }
 },
 "nbformat": 4,
 "nbformat_minor": 4
}
